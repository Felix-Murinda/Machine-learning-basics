{
 "cells": [
  {
   "cell_type": "code",
   "execution_count": 1,
   "metadata": {},
   "outputs": [],
   "source": [
    "import numpy as np\n",
    "import pandas as pd\n",
    "import matplotlib.pyplot as plt"
   ]
  },
  {
   "cell_type": "code",
   "execution_count": 2,
   "metadata": {},
   "outputs": [],
   "source": [
    "boston_data=pd.read_csv(\"https://raw.githubusercontent.com/dphi-official/Datasets/master/Boston_Housing/Training_set_boston.csv\")"
   ]
  },
  {
   "cell_type": "code",
   "execution_count": 3,
   "metadata": {},
   "outputs": [
    {
     "data": {
      "text/html": [
       "<div>\n",
       "<style scoped>\n",
       "    .dataframe tbody tr th:only-of-type {\n",
       "        vertical-align: middle;\n",
       "    }\n",
       "\n",
       "    .dataframe tbody tr th {\n",
       "        vertical-align: top;\n",
       "    }\n",
       "\n",
       "    .dataframe thead th {\n",
       "        text-align: right;\n",
       "    }\n",
       "</style>\n",
       "<table border=\"1\" class=\"dataframe\">\n",
       "  <thead>\n",
       "    <tr style=\"text-align: right;\">\n",
       "      <th></th>\n",
       "      <th>CRIM</th>\n",
       "      <th>ZN</th>\n",
       "      <th>INDUS</th>\n",
       "      <th>CHAS</th>\n",
       "      <th>NOX</th>\n",
       "      <th>RM</th>\n",
       "      <th>AGE</th>\n",
       "      <th>DIS</th>\n",
       "      <th>RAD</th>\n",
       "      <th>TAX</th>\n",
       "      <th>PTRATIO</th>\n",
       "      <th>B</th>\n",
       "      <th>LSTAT</th>\n",
       "      <th>MEDV</th>\n",
       "    </tr>\n",
       "  </thead>\n",
       "  <tbody>\n",
       "    <tr>\n",
       "      <th>0</th>\n",
       "      <td>15.02340</td>\n",
       "      <td>0.0</td>\n",
       "      <td>18.10</td>\n",
       "      <td>0.0</td>\n",
       "      <td>0.6140</td>\n",
       "      <td>5.304</td>\n",
       "      <td>97.3</td>\n",
       "      <td>2.1007</td>\n",
       "      <td>24.0</td>\n",
       "      <td>666.0</td>\n",
       "      <td>20.2</td>\n",
       "      <td>349.48</td>\n",
       "      <td>24.91</td>\n",
       "      <td>12.0</td>\n",
       "    </tr>\n",
       "    <tr>\n",
       "      <th>1</th>\n",
       "      <td>0.62739</td>\n",
       "      <td>0.0</td>\n",
       "      <td>8.14</td>\n",
       "      <td>0.0</td>\n",
       "      <td>0.5380</td>\n",
       "      <td>5.834</td>\n",
       "      <td>56.5</td>\n",
       "      <td>4.4986</td>\n",
       "      <td>4.0</td>\n",
       "      <td>307.0</td>\n",
       "      <td>21.0</td>\n",
       "      <td>395.62</td>\n",
       "      <td>8.47</td>\n",
       "      <td>19.9</td>\n",
       "    </tr>\n",
       "    <tr>\n",
       "      <th>2</th>\n",
       "      <td>0.03466</td>\n",
       "      <td>35.0</td>\n",
       "      <td>6.06</td>\n",
       "      <td>0.0</td>\n",
       "      <td>0.4379</td>\n",
       "      <td>6.031</td>\n",
       "      <td>23.3</td>\n",
       "      <td>6.6407</td>\n",
       "      <td>1.0</td>\n",
       "      <td>304.0</td>\n",
       "      <td>16.9</td>\n",
       "      <td>362.25</td>\n",
       "      <td>7.83</td>\n",
       "      <td>19.4</td>\n",
       "    </tr>\n",
       "    <tr>\n",
       "      <th>3</th>\n",
       "      <td>7.05042</td>\n",
       "      <td>0.0</td>\n",
       "      <td>18.10</td>\n",
       "      <td>0.0</td>\n",
       "      <td>0.6140</td>\n",
       "      <td>6.103</td>\n",
       "      <td>85.1</td>\n",
       "      <td>2.0218</td>\n",
       "      <td>24.0</td>\n",
       "      <td>666.0</td>\n",
       "      <td>20.2</td>\n",
       "      <td>2.52</td>\n",
       "      <td>23.29</td>\n",
       "      <td>13.4</td>\n",
       "    </tr>\n",
       "    <tr>\n",
       "      <th>4</th>\n",
       "      <td>0.72580</td>\n",
       "      <td>0.0</td>\n",
       "      <td>8.14</td>\n",
       "      <td>0.0</td>\n",
       "      <td>0.5380</td>\n",
       "      <td>5.727</td>\n",
       "      <td>69.5</td>\n",
       "      <td>3.7965</td>\n",
       "      <td>4.0</td>\n",
       "      <td>307.0</td>\n",
       "      <td>21.0</td>\n",
       "      <td>390.95</td>\n",
       "      <td>11.28</td>\n",
       "      <td>18.2</td>\n",
       "    </tr>\n",
       "  </tbody>\n",
       "</table>\n",
       "</div>"
      ],
      "text/plain": [
       "       CRIM    ZN  INDUS  CHAS     NOX     RM   AGE     DIS   RAD    TAX  \\\n",
       "0  15.02340   0.0  18.10   0.0  0.6140  5.304  97.3  2.1007  24.0  666.0   \n",
       "1   0.62739   0.0   8.14   0.0  0.5380  5.834  56.5  4.4986   4.0  307.0   \n",
       "2   0.03466  35.0   6.06   0.0  0.4379  6.031  23.3  6.6407   1.0  304.0   \n",
       "3   7.05042   0.0  18.10   0.0  0.6140  6.103  85.1  2.0218  24.0  666.0   \n",
       "4   0.72580   0.0   8.14   0.0  0.5380  5.727  69.5  3.7965   4.0  307.0   \n",
       "\n",
       "   PTRATIO       B  LSTAT  MEDV  \n",
       "0     20.2  349.48  24.91  12.0  \n",
       "1     21.0  395.62   8.47  19.9  \n",
       "2     16.9  362.25   7.83  19.4  \n",
       "3     20.2    2.52  23.29  13.4  \n",
       "4     21.0  390.95  11.28  18.2  "
      ]
     },
     "execution_count": 3,
     "metadata": {},
     "output_type": "execute_result"
    }
   ],
   "source": [
    "boston_data.head()"
   ]
  },
  {
   "cell_type": "code",
   "execution_count": 4,
   "metadata": {},
   "outputs": [],
   "source": [
    "x=boston_data.drop('MEDV',axis=1)\n",
    "y=boston_data.MEDV"
   ]
  },
  {
   "cell_type": "code",
   "execution_count": 5,
   "metadata": {},
   "outputs": [],
   "source": [
    "from sklearn.model_selection import train_test_split\n",
    "x_train,x_test,y_train,y_test=train_test_split(x,y,test_size=0.2,random_state=42)"
   ]
  },
  {
   "cell_type": "code",
   "execution_count": 6,
   "metadata": {},
   "outputs": [
    {
     "name": "stdout",
     "output_type": "stream",
     "text": [
      "13\n"
     ]
    }
   ],
   "source": [
    " n_features=x.shape[1]\n",
    "print (n_features)"
   ]
  },
  {
   "cell_type": "code",
   "execution_count": 7,
   "metadata": {},
   "outputs": [
    {
     "name": "stdout",
     "output_type": "stream",
     "text": [
      "Requirement already satisfied: tensorflow in c:\\users\\user\\anaconda3\\lib\\site-packages (2.5.0)\n",
      "Requirement already satisfied: six~=1.15.0 in c:\\users\\user\\anaconda3\\lib\\site-packages (from tensorflow) (1.15.0)\n",
      "Requirement already satisfied: wheel~=0.35 in c:\\users\\user\\anaconda3\\lib\\site-packages (from tensorflow) (0.36.2)\n",
      "Requirement already satisfied: keras-preprocessing~=1.1.2 in c:\\users\\user\\anaconda3\\lib\\site-packages (from tensorflow) (1.1.2)\n",
      "Requirement already satisfied: numpy~=1.19.2 in c:\\users\\user\\anaconda3\\lib\\site-packages (from tensorflow) (1.19.5)\n",
      "Requirement already satisfied: tensorboard~=2.5 in c:\\users\\user\\anaconda3\\lib\\site-packages (from tensorflow) (2.5.0)\n",
      "Requirement already satisfied: absl-py~=0.10 in c:\\users\\user\\anaconda3\\lib\\site-packages (from tensorflow) (0.13.0)\n",
      "Requirement already satisfied: google-pasta~=0.2 in c:\\users\\user\\anaconda3\\lib\\site-packages (from tensorflow) (0.2.0)\n",
      "Requirement already satisfied: astunparse~=1.6.3 in c:\\users\\user\\anaconda3\\lib\\site-packages (from tensorflow) (1.6.3)\n",
      "Requirement already satisfied: grpcio~=1.34.0 in c:\\users\\user\\anaconda3\\lib\\site-packages (from tensorflow) (1.34.1)\n",
      "Requirement already satisfied: wrapt~=1.12.1 in c:\\users\\user\\anaconda3\\lib\\site-packages (from tensorflow) (1.12.1)\n",
      "Requirement already satisfied: typing-extensions~=3.7.4 in c:\\users\\user\\anaconda3\\lib\\site-packages (from tensorflow) (3.7.4.3)\n",
      "Requirement already satisfied: keras-nightly~=2.5.0.dev in c:\\users\\user\\anaconda3\\lib\\site-packages (from tensorflow) (2.5.0.dev2021032900)\n",
      "Requirement already satisfied: flatbuffers~=1.12.0 in c:\\users\\user\\anaconda3\\lib\\site-packages (from tensorflow) (1.12)\n",
      "Requirement already satisfied: h5py~=3.1.0 in c:\\users\\user\\anaconda3\\lib\\site-packages (from tensorflow) (3.1.0)\n",
      "Requirement already satisfied: opt-einsum~=3.3.0 in c:\\users\\user\\anaconda3\\lib\\site-packages (from tensorflow) (3.3.0)\n",
      "Requirement already satisfied: tensorflow-estimator<2.6.0,>=2.5.0rc0 in c:\\users\\user\\anaconda3\\lib\\site-packages (from tensorflow) (2.5.0)\n",
      "Requirement already satisfied: termcolor~=1.1.0 in c:\\users\\user\\anaconda3\\lib\\site-packages (from tensorflow) (1.1.0)\n",
      "Requirement already satisfied: gast==0.4.0 in c:\\users\\user\\anaconda3\\lib\\site-packages (from tensorflow) (0.4.0)\n",
      "Requirement already satisfied: protobuf>=3.9.2 in c:\\users\\user\\anaconda3\\lib\\site-packages (from tensorflow) (3.17.3)\n",
      "Requirement already satisfied: werkzeug>=0.11.15 in c:\\users\\user\\anaconda3\\lib\\site-packages (from tensorboard~=2.5->tensorflow) (1.0.1)\n",
      "Requirement already satisfied: tensorboard-plugin-wit>=1.6.0 in c:\\users\\user\\anaconda3\\lib\\site-packages (from tensorboard~=2.5->tensorflow) (1.8.0)\n",
      "Requirement already satisfied: tensorboard-data-server<0.7.0,>=0.6.0 in c:\\users\\user\\anaconda3\\lib\\site-packages (from tensorboard~=2.5->tensorflow) (0.6.1)\n",
      "Requirement already satisfied: setuptools>=41.0.0 in c:\\users\\user\\anaconda3\\lib\\site-packages (from tensorboard~=2.5->tensorflow) (49.2.0.post20200714)\n",
      "Requirement already satisfied: google-auth-oauthlib<0.5,>=0.4.1 in c:\\users\\user\\anaconda3\\lib\\site-packages (from tensorboard~=2.5->tensorflow) (0.4.4)\n",
      "Requirement already satisfied: google-auth<2,>=1.6.3 in c:\\users\\user\\anaconda3\\lib\\site-packages (from tensorboard~=2.5->tensorflow) (1.31.0)\n",
      "Requirement already satisfied: markdown>=2.6.8 in c:\\users\\user\\anaconda3\\lib\\site-packages (from tensorboard~=2.5->tensorflow) (3.3.4)\n",
      "Requirement already satisfied: requests<3,>=2.21.0 in c:\\users\\user\\anaconda3\\lib\\site-packages (from tensorboard~=2.5->tensorflow) (2.24.0)\n",
      "Requirement already satisfied: requests-oauthlib>=0.7.0 in c:\\users\\user\\anaconda3\\lib\\site-packages (from google-auth-oauthlib<0.5,>=0.4.1->tensorboard~=2.5->tensorflow) (1.3.0)\n",
      "Requirement already satisfied: cachetools<5.0,>=2.0.0 in c:\\users\\user\\anaconda3\\lib\\site-packages (from google-auth<2,>=1.6.3->tensorboard~=2.5->tensorflow) (4.2.2)\n",
      "Requirement already satisfied: pyasn1-modules>=0.2.1 in c:\\users\\user\\anaconda3\\lib\\site-packages (from google-auth<2,>=1.6.3->tensorboard~=2.5->tensorflow) (0.2.8)\n",
      "Requirement already satisfied: rsa<5,>=3.1.4; python_version >= \"3.6\" in c:\\users\\user\\anaconda3\\lib\\site-packages (from google-auth<2,>=1.6.3->tensorboard~=2.5->tensorflow) (4.7.2)\n",
      "Requirement already satisfied: urllib3!=1.25.0,!=1.25.1,<1.26,>=1.21.1 in c:\\users\\user\\anaconda3\\lib\\site-packages (from requests<3,>=2.21.0->tensorboard~=2.5->tensorflow) (1.25.9)\n",
      "Requirement already satisfied: idna<3,>=2.5 in c:\\users\\user\\anaconda3\\lib\\site-packages (from requests<3,>=2.21.0->tensorboard~=2.5->tensorflow) (2.10)\n",
      "Requirement already satisfied: certifi>=2017.4.17 in c:\\users\\user\\anaconda3\\lib\\site-packages (from requests<3,>=2.21.0->tensorboard~=2.5->tensorflow) (2020.6.20)\n",
      "Requirement already satisfied: chardet<4,>=3.0.2 in c:\\users\\user\\anaconda3\\lib\\site-packages (from requests<3,>=2.21.0->tensorboard~=2.5->tensorflow) (3.0.4)\n",
      "Requirement already satisfied: oauthlib>=3.0.0 in c:\\users\\user\\anaconda3\\lib\\site-packages (from requests-oauthlib>=0.7.0->google-auth-oauthlib<0.5,>=0.4.1->tensorboard~=2.5->tensorflow) (3.1.1)\n",
      "Requirement already satisfied: pyasn1<0.5.0,>=0.4.6 in c:\\users\\user\\anaconda3\\lib\\site-packages (from pyasn1-modules>=0.2.1->google-auth<2,>=1.6.3->tensorboard~=2.5->tensorflow) (0.4.8)\n"
     ]
    }
   ],
   "source": [
    "!pip install tensorflow\n",
    "from tensorflow.keras import Sequential\n",
    "from tensorflow.keras.layers import Dense\n",
    "from numpy.random import seed\n",
    "import tensorflow"
   ]
  },
  {
   "cell_type": "code",
   "execution_count": 8,
   "metadata": {},
   "outputs": [],
   "source": [
    "model=Sequential()\n",
    "model.add(Dense(10,activation='relu',input_shape=(n_features,)))\n",
    "model.add(Dense(8,activation='relu'))\n",
    "model.add(Dense(1))"
   ]
  },
  {
   "cell_type": "code",
   "execution_count": 9,
   "metadata": {},
   "outputs": [
    {
     "name": "stdout",
     "output_type": "stream",
     "text": [
      "Model: \"sequential\"\n",
      "_________________________________________________________________\n",
      "Layer (type)                 Output Shape              Param #   \n",
      "=================================================================\n",
      "dense (Dense)                (None, 10)                140       \n",
      "_________________________________________________________________\n",
      "dense_1 (Dense)              (None, 8)                 88        \n",
      "_________________________________________________________________\n",
      "dense_2 (Dense)              (None, 1)                 9         \n",
      "=================================================================\n",
      "Total params: 237\n",
      "Trainable params: 237\n",
      "Non-trainable params: 0\n",
      "_________________________________________________________________\n"
     ]
    }
   ],
   "source": [
    "model.summary()"
   ]
  },
  {
   "cell_type": "code",
   "execution_count": 10,
   "metadata": {},
   "outputs": [],
   "source": [
    "from tensorflow.keras.optimizers import RMSprop\n",
    "optimizer=RMSprop(0.01)#0.01 is the learning rate"
   ]
  },
  {
   "cell_type": "code",
   "execution_count": 11,
   "metadata": {},
   "outputs": [],
   "source": [
    "model.compile(loss='mean_squared_error',optimizer=optimizer)"
   ]
  },
  {
   "cell_type": "code",
   "execution_count": 12,
   "metadata": {},
   "outputs": [],
   "source": [
    "import random\n",
    "seed_value=random.randint(2,200)\n",
    "seed(seed_value)\n",
    "import os\n",
    "os.environ['PYTHONHASHSEED']=str(seed_value)\n",
    "import numpy as np\n",
    "np.random.seed(seed_value)\n",
    "tensorflow.random.set_seed(seed_value)"
   ]
  },
  {
   "cell_type": "code",
   "execution_count": 13,
   "metadata": {},
   "outputs": [
    {
     "data": {
      "text/plain": [
       "323"
      ]
     },
     "execution_count": 13,
     "metadata": {},
     "output_type": "execute_result"
    }
   ],
   "source": [
    "x_train.shape[0]"
   ]
  },
  {
   "cell_type": "code",
   "execution_count": 14,
   "metadata": {},
   "outputs": [
    {
     "name": "stdout",
     "output_type": "stream",
     "text": [
      "Epoch 1/10\n",
      "11/11 [==============================] - 1s 900us/step - loss: 901.4872\n",
      "Epoch 2/10\n",
      "11/11 [==============================] - 0s 799us/step - loss: 86.9971\n",
      "Epoch 3/10\n",
      "11/11 [==============================] - 0s 901us/step - loss: 82.9018\n",
      "Epoch 4/10\n",
      "11/11 [==============================] - 0s 899us/step - loss: 94.8974\n",
      "Epoch 5/10\n",
      "11/11 [==============================] - 0s 699us/step - loss: 76.3814\n",
      "Epoch 6/10\n",
      "11/11 [==============================] - 0s 899us/step - loss: 97.8906\n",
      "Epoch 7/10\n",
      "11/11 [==============================] - 0s 1000us/step - loss: 88.3601\n",
      "Epoch 8/10\n",
      "11/11 [==============================] - 0s 699us/step - loss: 77.3273\n",
      "Epoch 9/10\n",
      "11/11 [==============================] - 0s 801us/step - loss: 85.7292\n",
      "Epoch 10/10\n",
      "11/11 [==============================] - 0s 800us/step - loss: 69.8099\n"
     ]
    },
    {
     "data": {
      "text/plain": [
       "<tensorflow.python.keras.callbacks.History at 0x18c2f804fd0>"
      ]
     },
     "execution_count": 14,
     "metadata": {},
     "output_type": "execute_result"
    }
   ],
   "source": [
    "model.fit(x_train,y_train,epochs=10,batch_size=30,verbose=1)"
   ]
  },
  {
   "cell_type": "code",
   "execution_count": 15,
   "metadata": {},
   "outputs": [
    {
     "name": "stdout",
     "output_type": "stream",
     "text": [
      "3/3 [==============================] - 0s 1ms/step - loss: 77.3477\n"
     ]
    },
    {
     "data": {
      "text/plain": [
       "77.34768676757812"
      ]
     },
     "execution_count": 15,
     "metadata": {},
     "output_type": "execute_result"
    }
   ],
   "source": [
    "model.evaluate(x_test,y_test)"
   ]
  },
  {
   "cell_type": "code",
   "execution_count": 16,
   "metadata": {},
   "outputs": [
    {
     "data": {
      "text/plain": [
       "(81,)"
      ]
     },
     "execution_count": 16,
     "metadata": {},
     "output_type": "execute_result"
    }
   ],
   "source": [
    "y_test.values.shape"
   ]
  },
  {
   "cell_type": "code",
   "execution_count": 17,
   "metadata": {},
   "outputs": [],
   "source": [
    "y_pred=model.predict(x_test)"
   ]
  },
  {
   "cell_type": "code",
   "execution_count": 18,
   "metadata": {},
   "outputs": [
    {
     "data": {
      "text/plain": [
       "(81,)"
      ]
     },
     "execution_count": 18,
     "metadata": {},
     "output_type": "execute_result"
    }
   ],
   "source": [
    "y_pred.flatten().shape"
   ]
  },
  {
   "cell_type": "code",
   "execution_count": 19,
   "metadata": {},
   "outputs": [],
   "source": [
    "diff=np.subtract(model.predict(x_test).flatten(),y_test.values)"
   ]
  },
  {
   "cell_type": "code",
   "execution_count": 20,
   "metadata": {},
   "outputs": [
    {
     "data": {
      "text/plain": [
       "(81,)"
      ]
     },
     "execution_count": 20,
     "metadata": {},
     "output_type": "execute_result"
    }
   ],
   "source": [
    "diff.shape"
   ]
  },
  {
   "cell_type": "code",
   "execution_count": 21,
   "metadata": {},
   "outputs": [],
   "source": [
    "diff=diff*diff"
   ]
  },
  {
   "cell_type": "code",
   "execution_count": 22,
   "metadata": {},
   "outputs": [
    {
     "data": {
      "text/plain": [
       "77.34767937843188"
      ]
     },
     "execution_count": 22,
     "metadata": {},
     "output_type": "execute_result"
    }
   ],
   "source": [
    "sum(diff)/(len(diff))"
   ]
  },
  {
   "cell_type": "code",
   "execution_count": 23,
   "metadata": {},
   "outputs": [],
   "source": [
    "def plot_the_loss_curve(epochs,rmse):\n",
    "    \"\"\"PLOT A CURVE OF LOSS VS. EPOCH\"\"\"\n",
    "    plt.figure()\n",
    "    plt.xlabel(\"Epoch\")\n",
    "    plt.ylabel(\"Root Mean Squared Error\")\n",
    "    plt.plot(epochs,rmse,label=\"loss\")\n",
    "    plt.legend()\n",
    "    plt.show()"
   ]
  },
  {
   "cell_type": "code",
   "execution_count": 25,
   "metadata": {},
   "outputs": [
    {
     "name": "stdout",
     "output_type": "stream",
     "text": [
      "Epoch 1/10\n",
      "11/11 [==============================] - 0s 799us/step - loss: 6773.0913\n",
      "Epoch 2/10\n",
      "11/11 [==============================] - 0s 798us/step - loss: 571.5765\n",
      "Epoch 3/10\n",
      "11/11 [==============================] - 0s 700us/step - loss: 542.4873\n",
      "Epoch 4/10\n",
      "11/11 [==============================] - 0s 901us/step - loss: 506.9092\n",
      "Epoch 5/10\n",
      "11/11 [==============================] - 0s 800us/step - loss: 468.1935\n",
      "Epoch 6/10\n",
      "11/11 [==============================] - 0s 800us/step - loss: 429.4333\n",
      "Epoch 7/10\n",
      "11/11 [==============================] - 0s 900us/step - loss: 392.5531\n",
      "Epoch 8/10\n",
      "11/11 [==============================] - 0s 899us/step - loss: 357.4514\n",
      "Epoch 9/10\n",
      "11/11 [==============================] - 0s 698us/step - loss: 324.5664\n",
      "Epoch 10/10\n",
      "11/11 [==============================] - 0s 801us/step - loss: 293.9879\n",
      "3/3 [==============================] - 0s 2ms/step - loss: 259.6059\n",
      "The MSE value is: 259.60589599609375\n"
     ]
    }
   ],
   "source": [
    "model=Sequential()\n",
    "model.add(Dense(10,activation='relu',input_shape=(n_features,)))\n",
    "model.add(Dense(8,activation='relu'))\n",
    "model.add(Dense(1))\n",
    "optimizer=RMSprop(0.1)\n",
    "model.compile(loss='mean_squared_error',optimizer=optimizer)\n",
    "history=model.fit(x_train,y_train,epochs=10,batch_size=30,verbose=1)\n",
    "print('The MSE value is:',model.evaluate(x_test,y_test))"
   ]
  },
  {
   "cell_type": "code",
   "execution_count": 27,
   "metadata": {},
   "outputs": [
    {
     "data": {
      "image/png": "[encoded data removed]",
      "text/plain": [
       "<Figure size 432x288 with 1 Axes>"
      ]
     },
     "metadata": {
      "needs_background": "light"
     },
     "output_type": "display_data"
    }
   ],
   "source": [
    "plot_the_loss_curve(history.epoch,history.history['loss'])"
   ]
  },
  {
   "cell_type": "code",
   "execution_count": 28,
   "metadata": {},
   "outputs": [
    {
     "name": "stdout",
     "output_type": "stream",
     "text": [
      "Epoch 1/20\n",
      "11/11 [==============================] - 1s 800us/step - loss: 253.0215\n",
      "Epoch 2/20\n",
      "11/11 [==============================] - 0s 800us/step - loss: 220.0668\n",
      "Epoch 3/20\n",
      "11/11 [==============================] - 0s 800us/step - loss: 196.5562\n",
      "Epoch 4/20\n",
      "11/11 [==============================] - 0s 801us/step - loss: 176.9367\n",
      "Epoch 5/20\n",
      "11/11 [==============================] - 0s 1ms/step - loss: 159.4732\n",
      "Epoch 6/20\n",
      "11/11 [==============================] - 0s 899us/step - loss: 144.0799\n",
      "Epoch 7/20\n",
      "11/11 [==============================] - 0s 600us/step - loss: 131.1345\n",
      "Epoch 8/20\n",
      "11/11 [==============================] - 0s 798us/step - loss: 119.9810\n",
      "Epoch 9/20\n",
      "11/11 [==============================] - 0s 700us/step - loss: 110.9147\n",
      "Epoch 10/20\n",
      "11/11 [==============================] - 0s 699us/step - loss: 103.9245\n",
      "Epoch 11/20\n",
      "11/11 [==============================] - 0s 899us/step - loss: 98.9219\n",
      "Epoch 12/20\n",
      "11/11 [==============================] - 0s 701us/step - loss: 95.4880\n",
      "Epoch 13/20\n",
      "11/11 [==============================] - 0s 799us/step - loss: 92.9114\n",
      "Epoch 14/20\n",
      "11/11 [==============================] - 0s 898us/step - loss: 91.6880\n",
      "Epoch 15/20\n",
      "11/11 [==============================] - 0s 600us/step - loss: 91.2104\n",
      "Epoch 16/20\n",
      "11/11 [==============================] - 0s 900us/step - loss: 91.0879\n",
      "Epoch 17/20\n",
      "11/11 [==============================] - 0s 799us/step - loss: 91.1102\n",
      "Epoch 18/20\n",
      "11/11 [==============================] - 0s 800us/step - loss: 90.9775\n",
      "Epoch 19/20\n",
      "11/11 [==============================] - 0s 799us/step - loss: 90.9341\n",
      "Epoch 20/20\n",
      "11/11 [==============================] - 0s 998us/step - loss: 90.9625\n",
      "3/3 [==============================] - 0s 1ms/step - loss: 71.1005\n"
     ]
    },
    {
     "data": {
      "text/plain": [
       "71.10045623779297"
      ]
     },
     "execution_count": 28,
     "metadata": {},
     "output_type": "execute_result"
    }
   ],
   "source": [
    "learning_rate=0.1\n",
    "epochs=20\n",
    "optimizer=RMSprop(learning_rate)\n",
    "model.compile(loss='mean_squared_error',optimizer=optimizer)\n",
    "history=model.fit(x_train,y_train,epochs=epochs,batch_size=30)\n",
    "model.evaluate(x_test,y_test)"
   ]
  },
  {
   "cell_type": "code",
   "execution_count": 29,
   "metadata": {},
   "outputs": [
    {
     "data": {
      "image/png": "[encoded data removed]",
      "text/plain": [
       "<Figure size 432x288 with 1 Axes>"
      ]
     },
     "metadata": {
      "needs_background": "light"
     },
     "output_type": "display_data"
    }
   ],
   "source": [
    "plot_the_loss_curve(history.epoch,history.history['loss'])"
   ]
  },
  {
   "cell_type": "code",
   "execution_count": 30,
   "metadata": {},
   "outputs": [
    {
     "data": {
      "text/plain": [
       "(323, 13)"
      ]
     },
     "execution_count": 30,
     "metadata": {},
     "output_type": "execute_result"
    }
   ],
   "source": [
    "x_train.shape"
   ]
  },
  {
   "cell_type": "code",
   "execution_count": 31,
   "metadata": {},
   "outputs": [
    {
     "name": "stdout",
     "output_type": "stream",
     "text": [
      "Epoch 1/100\n",
      "11/11 [==============================] - 0s 800us/step - loss: 91.0586\n",
      "Epoch 2/100\n",
      "11/11 [==============================] - 0s 899us/step - loss: 91.1291\n",
      "Epoch 3/100\n",
      "11/11 [==============================] - 0s 700us/step - loss: 90.9576\n",
      "Epoch 4/100\n",
      "11/11 [==============================] - 0s 899us/step - loss: 90.9914\n",
      "Epoch 5/100\n",
      "11/11 [==============================] - 0s 1ms/step - loss: 91.0207\n",
      "Epoch 6/100\n",
      "11/11 [==============================] - 0s 700us/step - loss: 90.9075\n",
      "Epoch 7/100\n",
      "11/11 [==============================] - 0s 799us/step - loss: 90.9422\n",
      "Epoch 8/100\n",
      "11/11 [==============================] - 0s 999us/step - loss: 90.9636\n",
      "Epoch 9/100\n",
      "11/11 [==============================] - 0s 700us/step - loss: 91.1265\n",
      "Epoch 10/100\n",
      "11/11 [==============================] - 0s 700us/step - loss: 90.9336\n",
      "Epoch 11/100\n",
      "11/11 [==============================] - 0s 999us/step - loss: 90.9542\n",
      "Epoch 12/100\n",
      "11/11 [==============================] - 0s 900us/step - loss: 90.8952\n",
      "Epoch 13/100\n",
      "11/11 [==============================] - 0s 800us/step - loss: 91.0152\n",
      "Epoch 14/100\n",
      "11/11 [==============================] - 0s 999us/step - loss: 90.9576\n",
      "Epoch 15/100\n",
      "11/11 [==============================] - 0s 1ms/step - loss: 90.8778\n",
      "Epoch 16/100\n",
      "11/11 [==============================] - 0s 700us/step - loss: 90.9803\n",
      "Epoch 17/100\n",
      "11/11 [==============================] - 0s 899us/step - loss: 91.0604\n",
      "Epoch 18/100\n",
      "11/11 [==============================] - 0s 1ms/step - loss: 90.9620\n",
      "Epoch 19/100\n",
      "11/11 [==============================] - 0s 999us/step - loss: 90.9309\n",
      "Epoch 20/100\n",
      "11/11 [==============================] - 0s 799us/step - loss: 90.9668\n",
      "Epoch 21/100\n",
      "11/11 [==============================] - 0s 899us/step - loss: 90.8977\n",
      "Epoch 22/100\n",
      "11/11 [==============================] - 0s 999us/step - loss: 91.1625\n",
      "Epoch 23/100\n",
      "11/11 [==============================] - 0s 999us/step - loss: 90.9551\n",
      "Epoch 24/100\n",
      "11/11 [==============================] - 0s 700us/step - loss: 91.1354\n",
      "Epoch 25/100\n",
      "11/11 [==============================] - 0s 900us/step - loss: 90.9281\n",
      "Epoch 26/100\n",
      "11/11 [==============================] - 0s 900us/step - loss: 90.9336\n",
      "Epoch 27/100\n",
      "11/11 [==============================] - 0s 700us/step - loss: 91.0068\n",
      "Epoch 28/100\n",
      "11/11 [==============================] - 0s 999us/step - loss: 90.9029\n",
      "Epoch 29/100\n",
      "11/11 [==============================] - 0s 899us/step - loss: 90.9337\n",
      "Epoch 30/100\n",
      "11/11 [==============================] - 0s 700us/step - loss: 91.0357\n",
      "Epoch 31/100\n",
      "11/11 [==============================] - 0s 799us/step - loss: 90.8892\n",
      "Epoch 32/100\n",
      "11/11 [==============================] - 0s 999us/step - loss: 90.9312\n",
      "Epoch 33/100\n",
      "11/11 [==============================] - 0s 899us/step - loss: 90.9871\n",
      "Epoch 34/100\n",
      "11/11 [==============================] - 0s 799us/step - loss: 90.9777\n",
      "Epoch 35/100\n",
      "11/11 [==============================] - 0s 899us/step - loss: 91.0074\n",
      "Epoch 36/100\n",
      "11/11 [==============================] - 0s 899us/step - loss: 90.9628\n",
      "Epoch 37/100\n",
      "11/11 [==============================] - 0s 800us/step - loss: 90.9324\n",
      "Epoch 38/100\n",
      "11/11 [==============================] - 0s 899us/step - loss: 91.0618\n",
      "Epoch 39/100\n",
      "11/11 [==============================] - 0s 800us/step - loss: 90.9740\n",
      "Epoch 40/100\n",
      "11/11 [==============================] - 0s 800us/step - loss: 90.9688\n",
      "Epoch 41/100\n",
      "11/11 [==============================] - 0s 1000us/step - loss: 90.9138\n",
      "Epoch 42/100\n",
      "11/11 [==============================] - 0s 700us/step - loss: 91.0380\n",
      "Epoch 43/100\n",
      "11/11 [==============================] - 0s 700us/step - loss: 90.9568\n",
      "Epoch 44/100\n",
      "11/11 [==============================] - 0s 899us/step - loss: 91.0415\n",
      "Epoch 45/100\n",
      "11/11 [==============================] - 0s 700us/step - loss: 90.9079\n",
      "Epoch 46/100\n",
      "11/11 [==============================] - 0s 600us/step - loss: 90.9865\n",
      "Epoch 47/100\n",
      "11/11 [==============================] - 0s 700us/step - loss: 90.9305\n",
      "Epoch 48/100\n",
      "11/11 [==============================] - 0s 700us/step - loss: 90.9781\n",
      "Epoch 49/100\n",
      "11/11 [==============================] - 0s 899us/step - loss: 90.9682\n",
      "Epoch 50/100\n",
      "11/11 [==============================] - 0s 800us/step - loss: 91.0141\n",
      "Epoch 51/100\n",
      "11/11 [==============================] - 0s 700us/step - loss: 90.9727\n",
      "Epoch 52/100\n",
      "11/11 [==============================] - 0s 799us/step - loss: 91.0549\n",
      "Epoch 53/100\n",
      "11/11 [==============================] - 0s 900us/step - loss: 90.9516\n",
      "Epoch 54/100\n",
      "11/11 [==============================] - 0s 700us/step - loss: 90.9034\n",
      "Epoch 55/100\n",
      "11/11 [==============================] - 0s 999us/step - loss: 90.8645\n",
      "Epoch 56/100\n",
      "11/11 [==============================] - 0s 1000us/step - loss: 91.1133\n",
      "Epoch 57/100\n",
      "11/11 [==============================] - 0s 699us/step - loss: 90.9106\n",
      "Epoch 58/100\n",
      "11/11 [==============================] - 0s 800us/step - loss: 90.9415\n",
      "Epoch 59/100\n",
      "11/11 [==============================] - 0s 899us/step - loss: 91.0858\n",
      "Epoch 60/100\n",
      "11/11 [==============================] - 0s 900us/step - loss: 90.9798\n",
      "Epoch 61/100\n",
      "11/11 [==============================] - 0s 699us/step - loss: 91.0519\n",
      "Epoch 62/100\n",
      "11/11 [==============================] - 0s 1000us/step - loss: 90.8888\n",
      "Epoch 63/100\n",
      "11/11 [==============================] - 0s 800us/step - loss: 90.9530\n",
      "Epoch 64/100\n",
      "11/11 [==============================] - 0s 600us/step - loss: 91.1031\n",
      "Epoch 65/100\n",
      "11/11 [==============================] - 0s 700us/step - loss: 90.9962\n",
      "Epoch 66/100\n",
      "11/11 [==============================] - 0s 799us/step - loss: 90.9816\n",
      "Epoch 67/100\n",
      "11/11 [==============================] - 0s 999us/step - loss: 91.0478\n",
      "Epoch 68/100\n",
      "11/11 [==============================] - 0s 999us/step - loss: 90.9199\n",
      "Epoch 69/100\n",
      "11/11 [==============================] - 0s 1ms/step - loss: 90.9589\n",
      "Epoch 70/100\n",
      "11/11 [==============================] - 0s 999us/step - loss: 91.0190\n",
      "Epoch 71/100\n",
      "11/11 [==============================] - 0s 999us/step - loss: 90.9930\n",
      "Epoch 72/100\n",
      "11/11 [==============================] - 0s 799us/step - loss: 90.9222\n",
      "Epoch 73/100\n",
      "11/11 [==============================] - 0s 1ms/step - loss: 90.9788\n",
      "Epoch 74/100\n",
      "11/11 [==============================] - 0s 1ms/step - loss: 90.9937\n",
      "Epoch 75/100\n",
      "11/11 [==============================] - 0s 1ms/step - loss: 90.9475\n",
      "Epoch 76/100\n",
      "11/11 [==============================] - 0s 899us/step - loss: 91.0362\n",
      "Epoch 77/100\n",
      "11/11 [==============================] - 0s 700us/step - loss: 90.9841\n",
      "Epoch 78/100\n",
      "11/11 [==============================] - 0s 899us/step - loss: 91.0284\n",
      "Epoch 79/100\n",
      "11/11 [==============================] - 0s 999us/step - loss: 90.9756\n",
      "Epoch 80/100\n",
      "11/11 [==============================] - 0s 1ms/step - loss: 90.9733\n",
      "Epoch 81/100\n",
      "11/11 [==============================] - 0s 700us/step - loss: 91.0095\n",
      "Epoch 82/100\n",
      "11/11 [==============================] - 0s 999us/step - loss: 90.9721\n",
      "Epoch 83/100\n",
      "11/11 [==============================] - 0s 899us/step - loss: 90.9635\n",
      "Epoch 84/100\n",
      "11/11 [==============================] - 0s 999us/step - loss: 91.0056\n",
      "Epoch 85/100\n",
      "11/11 [==============================] - 0s 1ms/step - loss: 90.9417\n",
      "Epoch 86/100\n",
      "11/11 [==============================] - 0s 799us/step - loss: 90.9476\n",
      "Epoch 87/100\n",
      "11/11 [==============================] - 0s 700us/step - loss: 90.9665\n",
      "Epoch 88/100\n",
      "11/11 [==============================] - 0s 999us/step - loss: 90.9983\n",
      "Epoch 89/100\n",
      "11/11 [==============================] - 0s 999us/step - loss: 91.0782\n",
      "Epoch 90/100\n",
      "11/11 [==============================] - 0s 799us/step - loss: 90.9250\n",
      "Epoch 91/100\n",
      "11/11 [==============================] - 0s 1ms/step - loss: 91.0086\n",
      "Epoch 92/100\n",
      "11/11 [==============================] - 0s 999us/step - loss: 90.9837\n",
      "Epoch 93/100\n",
      "11/11 [==============================] - 0s 1ms/step - loss: 90.9630\n",
      "Epoch 94/100\n",
      "11/11 [==============================] - 0s 1ms/step - loss: 91.0145\n",
      "Epoch 95/100\n",
      "11/11 [==============================] - 0s 800us/step - loss: 90.9396\n",
      "Epoch 96/100\n",
      "11/11 [==============================] - 0s 799us/step - loss: 90.9976\n",
      "Epoch 97/100\n",
      "11/11 [==============================] - 0s 1ms/step - loss: 90.9778\n",
      "Epoch 98/100\n",
      "11/11 [==============================] - 0s 1ms/step - loss: 90.9667\n",
      "Epoch 99/100\n",
      "11/11 [==============================] - 0s 1ms/step - loss: 91.0511\n",
      "Epoch 100/100\n",
      "11/11 [==============================] - 0s 700us/step - loss: 91.0949\n",
      "WARNING:tensorflow:5 out of the last 13 calls to <function Model.make_test_function.<locals>.test_function at 0x0000018C31F61670> triggered tf.function retracing. Tracing is expensive and the excessive number of tracings could be due to (1) creating @tf.function repeatedly in a loop, (2) passing tensors with different shapes, (3) passing Python objects instead of tensors. For (1), please define your @tf.function outside of the loop. For (2), @tf.function has experimental_relax_shapes=True option that relaxes argument shapes that can avoid unnecessary retracing. For (3), please refer to https://www.tensorflow.org/guide/function#controlling_retracing and https://www.tensorflow.org/api_docs/python/tf/function for  more details.\n",
      "3/3 [==============================] - 0s 1000us/step - loss: 71.1019\n"
     ]
    },
    {
     "data": {
      "text/plain": [
       "71.10186767578125"
      ]
     },
     "execution_count": 31,
     "metadata": {},
     "output_type": "execute_result"
    }
   ],
   "source": [
    "learning_rate=0.1\n",
    "epochs=100\n",
    "optimizer=RMSprop(learning_rate)\n",
    "model.compile(loss='mean_squared_error',optimizer=optimizer)\n",
    "history=model.fit(x_train,y_train,epochs=epochs,batch_size=30)\n",
    "model.evaluate(x_test,y_test)"
   ]
  },
  {
   "cell_type": "code",
   "execution_count": 38,
   "metadata": {},
   "outputs": [
    {
     "name": "stdout",
     "output_type": "stream",
     "text": [
      "Epoch 1/200\n",
      "11/11 [==============================] - 0s 1000us/step - loss: 90.9052\n",
      "Epoch 2/200\n",
      "11/11 [==============================] - 0s 901us/step - loss: 90.9179\n",
      "Epoch 3/200\n",
      "11/11 [==============================] - 0s 1ms/step - loss: 90.8666\n",
      "Epoch 4/200\n",
      "11/11 [==============================] - 0s 1ms/step - loss: 90.8856\n",
      "Epoch 5/200\n",
      "11/11 [==============================] - 0s 900us/step - loss: 90.8896\n",
      "Epoch 6/200\n",
      "11/11 [==============================] - 0s 799us/step - loss: 90.8540\n",
      "Epoch 7/200\n",
      "11/11 [==============================] - 0s 799us/step - loss: 90.8639\n",
      "Epoch 8/200\n",
      "11/11 [==============================] - 0s 1ms/step - loss: 90.8709\n",
      "Epoch 9/200\n",
      "11/11 [==============================] - 0s 1000us/step - loss: 90.9217\n",
      "Epoch 10/200\n",
      "11/11 [==============================] - 0s 600us/step - loss: 90.8616\n",
      "Epoch 11/200\n",
      "11/11 [==============================] - 0s 899us/step - loss: 90.8709\n",
      "Epoch 12/200\n",
      "11/11 [==============================] - 0s 999us/step - loss: 90.8482\n",
      "Epoch 13/200\n",
      "11/11 [==============================] - 0s 800us/step - loss: 90.9010\n",
      "Epoch 14/200\n",
      "11/11 [==============================] - 0s 799us/step - loss: 90.8655\n",
      "Epoch 15/200\n",
      "11/11 [==============================] - 0s 800us/step - loss: 90.8443\n",
      "Epoch 16/200\n",
      "11/11 [==============================] - 0s 1ms/step - loss: 90.8765\n",
      "Epoch 17/200\n",
      "11/11 [==============================] - 0s 700us/step - loss: 90.8979\n",
      "Epoch 18/200\n",
      "11/11 [==============================] - 0s 700us/step - loss: 90.8709\n",
      "Epoch 19/200\n",
      "11/11 [==============================] - 0s 999us/step - loss: 90.8627\n",
      "Epoch 20/200\n",
      "11/11 [==============================] - 0s 900us/step - loss: 90.8721\n",
      "Epoch 21/200\n",
      "11/11 [==============================] - 0s 700us/step - loss: 90.8499\n",
      "Epoch 22/200\n",
      "11/11 [==============================] - 0s 1ms/step - loss: 90.9330\n",
      "Epoch 23/200\n",
      "11/11 [==============================] - 0s 1ms/step - loss: 90.8687\n",
      "Epoch 24/200\n",
      "11/11 [==============================] - 0s 900us/step - loss: 90.9224\n",
      "Epoch 25/200\n",
      "11/11 [==============================] - 0s 700us/step - loss: 90.8595\n",
      "Epoch 26/200\n",
      "11/11 [==============================] - 0s 899us/step - loss: 90.8627\n",
      "Epoch 27/200\n",
      "11/11 [==============================] - 0s 1ms/step - loss: 90.8855\n",
      "Epoch 28/200\n",
      "11/11 [==============================] - 0s 700us/step - loss: 90.8601\n",
      "Epoch 29/200\n",
      "11/11 [==============================] - 0s 800us/step - loss: 90.8595\n",
      "Epoch 30/200\n",
      "11/11 [==============================] - 0s 1ms/step - loss: 90.8948\n",
      "Epoch 31/200\n",
      "11/11 [==============================] - 0s 1ms/step - loss: 90.8515\n",
      "Epoch 32/200\n",
      "11/11 [==============================] - 0s 900us/step - loss: 90.8570\n",
      "Epoch 33/200\n",
      "11/11 [==============================] - 0s 899us/step - loss: 90.8787\n",
      "Epoch 34/200\n",
      "11/11 [==============================] - 0s 899us/step - loss: 90.8746\n",
      "Epoch 35/200\n",
      "11/11 [==============================] - 0s 1ms/step - loss: 90.8830\n",
      "Epoch 36/200\n",
      "11/11 [==============================] - 0s 800us/step - loss: 90.8701\n",
      "Epoch 37/200\n",
      "11/11 [==============================] - 0s 900us/step - loss: 90.8615\n",
      "Epoch 38/200\n",
      "11/11 [==============================] - 0s 1ms/step - loss: 90.9000\n",
      "Epoch 39/200\n",
      "11/11 [==============================] - 0s 1ms/step - loss: 90.8729\n",
      "Epoch 40/200\n",
      "11/11 [==============================] - 0s 700us/step - loss: 90.8710\n",
      "Epoch 41/200\n",
      "11/11 [==============================] - 0s 899us/step - loss: 90.8526\n",
      "Epoch 42/200\n",
      "11/11 [==============================] - 0s 999us/step - loss: 90.8912\n",
      "Epoch 43/200\n",
      "11/11 [==============================] - 0s 900us/step - loss: 90.8658\n",
      "Epoch 44/200\n",
      "11/11 [==============================] - 0s 700us/step - loss: 90.8964\n",
      "Epoch 45/200\n",
      "11/11 [==============================] - 0s 899us/step - loss: 90.8541\n",
      "Epoch 46/200\n",
      "11/11 [==============================] - 0s 999us/step - loss: 90.8813\n",
      "Epoch 47/200\n",
      "11/11 [==============================] - 0s 700us/step - loss: 90.8622\n",
      "Epoch 48/200\n",
      "11/11 [==============================] - 0s 800us/step - loss: 90.8699\n",
      "Epoch 49/200\n",
      "11/11 [==============================] - 0s 999us/step - loss: 90.8805\n",
      "Epoch 50/200\n",
      "11/11 [==============================] - 0s 999us/step - loss: 90.8831\n",
      "Epoch 51/200\n",
      "11/11 [==============================] - 0s 700us/step - loss: 90.8702\n",
      "Epoch 52/200\n",
      "11/11 [==============================] - 0s 898us/step - loss: 90.8962\n",
      "Epoch 53/200\n",
      "11/11 [==============================] - 0s 1000us/step - loss: 90.8659\n",
      "Epoch 54/200\n",
      "11/11 [==============================] - 0s 799us/step - loss: 90.8539\n",
      "Epoch 55/200\n",
      "11/11 [==============================] - 0s 899us/step - loss: 90.8495\n",
      "Epoch 56/200\n",
      "11/11 [==============================] - 0s 999us/step - loss: 90.9145\n",
      "Epoch 57/200\n",
      "11/11 [==============================] - 0s 899us/step - loss: 90.8527\n",
      "Epoch 58/200\n",
      "11/11 [==============================] - 0s 899us/step - loss: 90.8653\n",
      "Epoch 59/200\n",
      "11/11 [==============================] - 0s 1ms/step - loss: 90.9088\n",
      "Epoch 60/200\n",
      "11/11 [==============================] - 0s 999us/step - loss: 90.8743\n",
      "Epoch 61/200\n",
      "11/11 [==============================] - 0s 899us/step - loss: 90.8961\n",
      "Epoch 62/200\n",
      "11/11 [==============================] - 0s 800us/step - loss: 90.8468\n",
      "Epoch 63/200\n",
      "11/11 [==============================] - 0s 699us/step - loss: 90.8645\n",
      "Epoch 64/200\n",
      "11/11 [==============================] - 0s 1ms/step - loss: 90.9116\n",
      "Epoch 65/200\n",
      "11/11 [==============================] - 0s 900us/step - loss: 90.8789\n",
      "Epoch 66/200\n",
      "11/11 [==============================] - 0s 700us/step - loss: 90.8749\n",
      "Epoch 67/200\n",
      "11/11 [==============================] - 0s 999us/step - loss: 90.8976\n",
      "Epoch 68/200\n",
      "11/11 [==============================] - 0s 900us/step - loss: 90.8554\n",
      "Epoch 69/200\n",
      "11/11 [==============================] - 0s 700us/step - loss: 90.8733\n",
      "Epoch 70/200\n",
      "11/11 [==============================] - 0s 799us/step - loss: 90.8842\n",
      "Epoch 71/200\n",
      "11/11 [==============================] - 0s 800us/step - loss: 90.8781\n",
      "Epoch 72/200\n",
      "11/11 [==============================] - 0s 1ms/step - loss: 90.8576\n",
      "Epoch 73/200\n",
      "11/11 [==============================] - 0s 800us/step - loss: 90.8747\n",
      "Epoch 74/200\n",
      "11/11 [==============================] - 0s 700us/step - loss: 90.8795\n",
      "Epoch 75/200\n",
      "11/11 [==============================] - 0s 900us/step - loss: 90.8648\n",
      "Epoch 76/200\n",
      "11/11 [==============================] - 0s 799us/step - loss: 90.8935\n",
      "Epoch 77/200\n",
      "11/11 [==============================] - 0s 600us/step - loss: 90.8768\n",
      "Epoch 78/200\n",
      "11/11 [==============================] - 0s 800us/step - loss: 90.8891\n",
      "Epoch 79/200\n",
      "11/11 [==============================] - 0s 800us/step - loss: 90.8735\n",
      "Epoch 80/200\n",
      "11/11 [==============================] - 0s 700us/step - loss: 90.8740\n",
      "Epoch 81/200\n",
      "11/11 [==============================] - 0s 800us/step - loss: 90.8877\n",
      "Epoch 82/200\n",
      "11/11 [==============================] - 0s 700us/step - loss: 90.8735\n",
      "Epoch 83/200\n",
      "11/11 [==============================] - 0s 700us/step - loss: 90.8675\n",
      "Epoch 84/200\n",
      "11/11 [==============================] - 0s 700us/step - loss: 90.8816\n",
      "Epoch 85/200\n",
      "11/11 [==============================] - 0s 800us/step - loss: 90.8627\n",
      "Epoch 86/200\n",
      "11/11 [==============================] - 0s 800us/step - loss: 90.8765\n",
      "Epoch 87/200\n",
      "11/11 [==============================] - 0s 700us/step - loss: 90.8716\n",
      "Epoch 88/200\n",
      "11/11 [==============================] - 0s 899us/step - loss: 90.8824\n",
      "Epoch 89/200\n",
      "11/11 [==============================] - 0s 1ms/step - loss: 90.9039\n",
      "Epoch 90/200\n",
      "11/11 [==============================] - 0s 700us/step - loss: 90.8572\n",
      "Epoch 91/200\n",
      "11/11 [==============================] - 0s 800us/step - loss: 90.8838\n",
      "Epoch 92/200\n",
      "11/11 [==============================] - 0s 899us/step - loss: 90.8754\n",
      "Epoch 93/200\n",
      "11/11 [==============================] - 0s 899us/step - loss: 90.8694\n",
      "Epoch 94/200\n",
      "11/11 [==============================] - 0s 700us/step - loss: 90.8860\n",
      "Epoch 95/200\n",
      "11/11 [==============================] - 0s 700us/step - loss: 90.8658\n",
      "Epoch 96/200\n",
      "11/11 [==============================] - 0s 700us/step - loss: 90.8785\n",
      "Epoch 97/200\n",
      "11/11 [==============================] - 0s 799us/step - loss: 90.8735\n",
      "Epoch 98/200\n",
      "11/11 [==============================] - 0s 1000us/step - loss: 90.8702\n"
     ]
    },
    {
     "name": "stdout",
     "output_type": "stream",
     "text": [
      "Epoch 99/200\n",
      "11/11 [==============================] - 0s 700us/step - loss: 90.8970\n",
      "Epoch 100/200\n",
      "11/11 [==============================] - 0s 899us/step - loss: 90.9160\n",
      "Epoch 101/200\n",
      "11/11 [==============================] - 0s 800us/step - loss: 90.8343\n",
      "Epoch 102/200\n",
      "11/11 [==============================] - 0s 700us/step - loss: 90.8723\n",
      "Epoch 103/200\n",
      "11/11 [==============================] - 0s 800us/step - loss: 90.8686\n",
      "Epoch 104/200\n",
      "11/11 [==============================] - 0s 800us/step - loss: 90.8686\n",
      "Epoch 105/200\n",
      "11/11 [==============================] - 0s 700us/step - loss: 90.8812\n",
      "Epoch 106/200\n",
      "11/11 [==============================] - 0s 799us/step - loss: 90.8564\n",
      "Epoch 107/200\n",
      "11/11 [==============================] - 0s 1000us/step - loss: 90.9204\n",
      "Epoch 108/200\n",
      "11/11 [==============================] - 0s 700us/step - loss: 90.8714\n",
      "Epoch 109/200\n",
      "11/11 [==============================] - 0s 800us/step - loss: 90.8634\n",
      "Epoch 110/200\n",
      "11/11 [==============================] - 0s 700us/step - loss: 90.8602\n",
      "Epoch 111/200\n",
      "11/11 [==============================] - 0s 700us/step - loss: 90.8840\n",
      "Epoch 112/200\n",
      "11/11 [==============================] - 0s 800us/step - loss: 90.8519\n",
      "Epoch 113/200\n",
      "11/11 [==============================] - 0s 700us/step - loss: 90.9044\n",
      "Epoch 114/200\n",
      "11/11 [==============================] - 0s 700us/step - loss: 90.8654\n",
      "Epoch 115/200\n",
      "11/11 [==============================] - 0s 699us/step - loss: 90.8671\n",
      "Epoch 116/200\n",
      "11/11 [==============================] - 0s 700us/step - loss: 90.8751\n",
      "Epoch 117/200\n",
      "11/11 [==============================] - 0s 700us/step - loss: 90.8526\n",
      "Epoch 118/200\n",
      "11/11 [==============================] - 0s 700us/step - loss: 90.8785\n",
      "Epoch 119/200\n",
      "11/11 [==============================] - 0s 700us/step - loss: 90.8793\n",
      "Epoch 120/200\n",
      "11/11 [==============================] - 0s 699us/step - loss: 90.8567\n",
      "Epoch 121/200\n",
      "11/11 [==============================] - 0s 700us/step - loss: 90.8998\n",
      "Epoch 122/200\n",
      "11/11 [==============================] - 0s 800us/step - loss: 90.8664\n",
      "Epoch 123/200\n",
      "11/11 [==============================] - 0s 800us/step - loss: 90.8751\n",
      "Epoch 124/200\n",
      "11/11 [==============================] - 0s 600us/step - loss: 90.8721\n",
      "Epoch 125/200\n",
      "11/11 [==============================] - 0s 800us/step - loss: 90.8567\n",
      "Epoch 126/200\n",
      "11/11 [==============================] - 0s 999us/step - loss: 90.8817\n",
      "Epoch 127/200\n",
      "11/11 [==============================] - 0s 700us/step - loss: 90.9286\n",
      "Epoch 128/200\n",
      "11/11 [==============================] - 0s 800us/step - loss: 90.8716\n",
      "Epoch 129/200\n",
      "11/11 [==============================] - 0s 800us/step - loss: 90.8394\n",
      "Epoch 130/200\n",
      "11/11 [==============================] - 0s 600us/step - loss: 90.8768\n",
      "Epoch 131/200\n",
      "11/11 [==============================] - 0s 799us/step - loss: 90.8683\n",
      "Epoch 132/200\n",
      "11/11 [==============================] - 0s 800us/step - loss: 90.8992\n",
      "Epoch 133/200\n",
      "11/11 [==============================] - 0s 700us/step - loss: 90.8934\n",
      "Epoch 134/200\n",
      "11/11 [==============================] - 0s 900us/step - loss: 90.8520\n",
      "Epoch 135/200\n",
      "11/11 [==============================] - 0s 800us/step - loss: 90.9272\n",
      "Epoch 136/200\n",
      "11/11 [==============================] - 0s 800us/step - loss: 90.8541\n",
      "Epoch 137/200\n",
      "11/11 [==============================] - 0s 799us/step - loss: 90.8673\n",
      "Epoch 138/200\n",
      "11/11 [==============================] - 0s 700us/step - loss: 90.8711\n",
      "Epoch 139/200\n",
      "11/11 [==============================] - 0s 700us/step - loss: 90.8944\n",
      "Epoch 140/200\n",
      "11/11 [==============================] - 0s 599us/step - loss: 90.8655\n",
      "Epoch 141/200\n",
      "11/11 [==============================] - 0s 700us/step - loss: 90.8908\n",
      "Epoch 142/200\n",
      "11/11 [==============================] - 0s 700us/step - loss: 90.8707\n",
      "Epoch 143/200\n",
      "11/11 [==============================] - 0s 700us/step - loss: 90.8609\n",
      "Epoch 144/200\n",
      "11/11 [==============================] - 0s 799us/step - loss: 90.8588\n",
      "Epoch 145/200\n",
      "11/11 [==============================] - 0s 999us/step - loss: 90.8654\n",
      "Epoch 146/200\n",
      "11/11 [==============================] - 0s 700us/step - loss: 90.8657\n",
      "Epoch 147/200\n",
      "11/11 [==============================] - 0s 899us/step - loss: 90.9130\n",
      "Epoch 148/200\n",
      "11/11 [==============================] - 0s 799us/step - loss: 90.8581\n",
      "Epoch 149/200\n",
      "11/11 [==============================] - 0s 700us/step - loss: 90.8606\n",
      "Epoch 150/200\n",
      "11/11 [==============================] - 0s 899us/step - loss: 90.8930\n",
      "Epoch 151/200\n",
      "11/11 [==============================] - 0s 900us/step - loss: 90.8678\n",
      "Epoch 152/200\n",
      "11/11 [==============================] - 0s 700us/step - loss: 90.8734\n",
      "Epoch 153/200\n",
      "11/11 [==============================] - 0s 800us/step - loss: 90.8684\n",
      "Epoch 154/200\n",
      "11/11 [==============================] - 0s 999us/step - loss: 90.8546\n",
      "Epoch 155/200\n",
      "11/11 [==============================] - 0s 700us/step - loss: 90.8870\n",
      "Epoch 156/200\n",
      "11/11 [==============================] - 0s 799us/step - loss: 90.8509\n",
      "Epoch 157/200\n",
      "11/11 [==============================] - 0s 699us/step - loss: 90.8779\n",
      "Epoch 158/200\n",
      "11/11 [==============================] - 0s 700us/step - loss: 90.8837\n",
      "Epoch 159/200\n",
      "11/11 [==============================] - 0s 799us/step - loss: 90.8538\n",
      "Epoch 160/200\n",
      "11/11 [==============================] - 0s 800us/step - loss: 90.8721\n",
      "Epoch 161/200\n",
      "11/11 [==============================] - 0s 800us/step - loss: 90.8606\n",
      "Epoch 162/200\n",
      "11/11 [==============================] - 0s 900us/step - loss: 90.8678\n",
      "Epoch 163/200\n",
      "11/11 [==============================] - 0s 600us/step - loss: 90.8784\n",
      "Epoch 164/200\n",
      "11/11 [==============================] - 0s 700us/step - loss: 90.8755\n",
      "Epoch 165/200\n",
      "11/11 [==============================] - 0s 800us/step - loss: 90.8904\n",
      "Epoch 166/200\n",
      "11/11 [==============================] - 0s 600us/step - loss: 90.8661\n",
      "Epoch 167/200\n",
      "11/11 [==============================] - 0s 700us/step - loss: 90.8578\n",
      "Epoch 168/200\n",
      "11/11 [==============================] - 0s 799us/step - loss: 90.8710\n",
      "Epoch 169/200\n",
      "11/11 [==============================] - 0s 699us/step - loss: 90.8739\n",
      "Epoch 170/200\n",
      "11/11 [==============================] - 0s 700us/step - loss: 90.8616\n",
      "Epoch 171/200\n",
      "11/11 [==============================] - 0s 600us/step - loss: 90.8647\n",
      "Epoch 172/200\n",
      "11/11 [==============================] - 0s 799us/step - loss: 90.9110\n",
      "Epoch 173/200\n",
      "11/11 [==============================] - 0s 899us/step - loss: 90.8743\n",
      "Epoch 174/200\n",
      "11/11 [==============================] - 0s 800us/step - loss: 90.8779\n",
      "Epoch 175/200\n",
      "11/11 [==============================] - 0s 799us/step - loss: 90.9166\n",
      "Epoch 176/200\n",
      "11/11 [==============================] - ETA: 0s - loss: 71.47 - 0s 700us/step - loss: 90.8586\n",
      "Epoch 177/200\n",
      "11/11 [==============================] - 0s 700us/step - loss: 90.8766\n",
      "Epoch 178/200\n",
      "11/11 [==============================] - 0s 799us/step - loss: 90.8766\n",
      "Epoch 179/200\n",
      "11/11 [==============================] - 0s 700us/step - loss: 90.8567\n",
      "Epoch 180/200\n",
      "11/11 [==============================] - 0s 700us/step - loss: 90.8865\n",
      "Epoch 181/200\n",
      "11/11 [==============================] - 0s 700us/step - loss: 90.8628\n",
      "Epoch 182/200\n",
      "11/11 [==============================] - 0s 699us/step - loss: 90.8765\n",
      "Epoch 183/200\n",
      "11/11 [==============================] - 0s 899us/step - loss: 90.8873\n",
      "Epoch 184/200\n",
      "11/11 [==============================] - 0s 799us/step - loss: 90.8671\n",
      "Epoch 185/200\n",
      "11/11 [==============================] - 0s 899us/step - loss: 90.8535\n",
      "Epoch 186/200\n",
      "11/11 [==============================] - 0s 799us/step - loss: 90.8921\n",
      "Epoch 187/200\n",
      "11/11 [==============================] - 0s 700us/step - loss: 90.8730\n",
      "Epoch 188/200\n",
      "11/11 [==============================] - 0s 999us/step - loss: 90.8663\n",
      "Epoch 189/200\n",
      "11/11 [==============================] - 0s 999us/step - loss: 90.8809\n",
      "Epoch 190/200\n",
      "11/11 [==============================] - 0s 1ms/step - loss: 90.8647\n",
      "Epoch 191/200\n",
      "11/11 [==============================] - 0s 899us/step - loss: 90.8621\n",
      "Epoch 192/200\n",
      "11/11 [==============================] - 0s 899us/step - loss: 90.8984\n",
      "Epoch 193/200\n",
      "11/11 [==============================] - 0s 899us/step - loss: 90.9055\n",
      "Epoch 194/200\n",
      "11/11 [==============================] - 0s 700us/step - loss: 90.8572\n",
      "Epoch 195/200\n"
     ]
    },
    {
     "name": "stdout",
     "output_type": "stream",
     "text": [
      "11/11 [==============================] - 0s 800us/step - loss: 90.8757\n",
      "Epoch 196/200\n",
      "11/11 [==============================] - 0s 800us/step - loss: 90.8849\n",
      "Epoch 197/200\n",
      "11/11 [==============================] - 0s 700us/step - loss: 90.8621\n",
      "Epoch 198/200\n",
      "11/11 [==============================] - 0s 800us/step - loss: 90.8687\n",
      "Epoch 199/200\n",
      "11/11 [==============================] - 0s 999us/step - loss: 90.8832\n",
      "Epoch 200/200\n",
      "11/11 [==============================] - 0s 700us/step - loss: 90.9036\n",
      "3/3 [==============================] - 0s 999us/step - loss: 71.1054\n"
     ]
    },
    {
     "data": {
      "text/plain": [
       "71.10535430908203"
      ]
     },
     "execution_count": 38,
     "metadata": {},
     "output_type": "execute_result"
    }
   ],
   "source": [
    "learning_rate=0.03\n",
    "epochs=200\n",
    "optimizer=RMSprop(learning_rate)\n",
    "model.compile(loss='mean_squared_error',optimizer=optimizer)\n",
    "history=model.fit(x_train,y_train,epochs=epochs,batch_size=30)\n",
    "model.evaluate(x_test,y_test)"
   ]
  },
  {
   "cell_type": "code",
   "execution_count": 39,
   "metadata": {},
   "outputs": [
    {
     "data": {
      "image/png": "[encoded data removed]",
      "text/plain": [
       "<Figure size 432x288 with 1 Axes>"
      ]
     },
     "metadata": {
      "needs_background": "light"
     },
     "output_type": "display_data"
    }
   ],
   "source": [
    "plot_the_loss_curve(history.epoch,history.history['loss'])"
   ]
  },
  {
   "cell_type": "code",
   "execution_count": 40,
   "metadata": {},
   "outputs": [
    {
     "name": "stdout",
     "output_type": "stream",
     "text": [
      "Epoch 1/10\n",
      "9/9 [==============================] - 0s 750us/step - loss: 449.3366\n",
      "Epoch 2/10\n",
      "9/9 [==============================] - 0s 925us/step - loss: 115.1028\n",
      "Epoch 3/10\n",
      "9/9 [==============================] - 0s 1000us/step - loss: 92.4613\n",
      "Epoch 4/10\n",
      "9/9 [==============================] - 0s 750us/step - loss: 86.4659\n",
      "Epoch 5/10\n",
      "9/9 [==============================] - 0s 1ms/step - loss: 93.3347\n",
      "Epoch 6/10\n",
      "9/9 [==============================] - 0s 1ms/step - loss: 129.3006\n",
      "Epoch 7/10\n",
      "9/9 [==============================] - 0s 624us/step - loss: 72.9503\n",
      "Epoch 8/10\n",
      "9/9 [==============================] - 0s 876us/step - loss: 75.6339\n",
      "Epoch 9/10\n",
      "9/9 [==============================] - 0s 750us/step - loss: 72.9760\n",
      "Epoch 10/10\n",
      "9/9 [==============================] - 0s 750us/step - loss: 150.4299\n",
      "3/3 [==============================] - 0s 999us/step - loss: 61.0786\n",
      "The MSE value is: 61.07861328125\n"
     ]
    }
   ],
   "source": [
    "model=Sequential()\n",
    "model.add(Dense(10,activation='relu',input_shape=(n_features,)))\n",
    "model.add(Dense(8,activation='relu'))\n",
    "model.add(Dense(1))\n",
    "optimizer=RMSprop(0.01)\n",
    "model.compile(loss='mean_squared_error',optimizer=optimizer)\n",
    "history=model.fit(x_train,y_train,epochs=10,batch_size=40,verbose=1)\n",
    "print('The MSE value is:',model.evaluate(x_test,y_test)) "
   ]
  },
  {
   "cell_type": "code",
   "execution_count": 42,
   "metadata": {},
   "outputs": [
    {
     "name": "stdout",
     "output_type": "stream",
     "text": [
      "Epoch 1/20\n",
      "11/11 [==============================] - 1s 1ms/step - loss: 55.4695\n",
      "Epoch 2/20\n",
      "11/11 [==============================] - 0s 1ms/step - loss: 51.4141\n",
      "Epoch 3/20\n",
      "11/11 [==============================] - 0s 1ms/step - loss: 51.3684\n",
      "Epoch 4/20\n",
      "11/11 [==============================] - 0s 1ms/step - loss: 48.4297\n",
      "Epoch 5/20\n",
      "11/11 [==============================] - 0s 2ms/step - loss: 49.7532\n",
      "Epoch 6/20\n",
      "11/11 [==============================] - 0s 2ms/step - loss: 49.4101\n",
      "Epoch 7/20\n",
      "11/11 [==============================] - 0s 1ms/step - loss: 45.8156\n",
      "Epoch 8/20\n",
      "11/11 [==============================] - 0s 899us/step - loss: 47.6495\n",
      "Epoch 9/20\n",
      "11/11 [==============================] - 0s 899us/step - loss: 45.1889\n",
      "Epoch 10/20\n",
      "11/11 [==============================] - 0s 999us/step - loss: 44.6874\n",
      "Epoch 11/20\n",
      "11/11 [==============================] - 0s 1ms/step - loss: 41.8155\n",
      "Epoch 12/20\n",
      "11/11 [==============================] - 0s 1ms/step - loss: 41.2639\n",
      "Epoch 13/20\n",
      "11/11 [==============================] - 0s 1ms/step - loss: 43.2877\n",
      "Epoch 14/20\n",
      "11/11 [==============================] - 0s 999us/step - loss: 44.3908\n",
      "Epoch 15/20\n",
      "11/11 [==============================] - 0s 700us/step - loss: 41.8862\n",
      "Epoch 16/20\n",
      "11/11 [==============================] - 0s 1ms/step - loss: 39.9301\n",
      "Epoch 17/20\n",
      "11/11 [==============================] - 0s 1000us/step - loss: 35.7519\n",
      "Epoch 18/20\n",
      "11/11 [==============================] - 0s 999us/step - loss: 41.0352\n",
      "Epoch 19/20\n",
      "11/11 [==============================] - 0s 899us/step - loss: 45.9400\n",
      "Epoch 20/20\n",
      "11/11 [==============================] - 0s 899us/step - loss: 39.1041\n",
      "3/3 [==============================] - 0s 1000us/step - loss: 26.6413\n"
     ]
    },
    {
     "data": {
      "text/plain": [
       "26.64126968383789"
      ]
     },
     "execution_count": 42,
     "metadata": {},
     "output_type": "execute_result"
    }
   ],
   "source": [
    "learning_rate=0.01\n",
    "epochs=20\n",
    "batch=5\n",
    "optimizer=RMSprop(learning_rate)\n",
    "model.compile(loss='mean_squared_error',optimizer=optimizer)\n",
    "history=model.fit(x_train,y_train,epochs=epochs,batch_size=30)\n",
    "model.evaluate(x_test,y_test)"
   ]
  },
  {
   "cell_type": "code",
   "execution_count": 43,
   "metadata": {},
   "outputs": [
    {
     "data": {
      "image/png": "[encoded data removed]",
      "text/plain": [
       "<Figure size 432x288 with 1 Axes>"
      ]
     },
     "metadata": {
      "needs_background": "light"
     },
     "output_type": "display_data"
    }
   ],
   "source": [
    "plot_the_loss_curve(history.epoch,history.history['loss'])"
   ]
  },
  {
   "cell_type": "code",
   "execution_count": null,
   "metadata": {},
   "outputs": [],
   "source": [
    "  "
   ]
  }
 ],
 "metadata": {
  "kernelspec": {
   "display_name": "Python 3 (ipykernel)",
   "language": "python",
   "name": "python3"
  },
  "language_info": {
   "codemirror_mode": {
    "name": "ipython",
    "version": 3
   },
   "file_extension": ".py",
   "mimetype": "text/x-python",
   "name": "python",
   "nbconvert_exporter": "python",
   "pygments_lexer": "ipython3",
   "version": "3.9.13"
  }
 },
 "nbformat": 4,
 "nbformat_minor": 4
}
